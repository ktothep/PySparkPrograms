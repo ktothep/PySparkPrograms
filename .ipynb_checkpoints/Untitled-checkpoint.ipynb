{
 "cells": [
  {
   "cell_type": "code",
   "execution_count": 15,
   "id": "bc588b37",
   "metadata": {},
   "outputs": [
    {
     "name": "stderr",
     "output_type": "stream",
     "text": [
      "22/05/25 20:48:35 WARN Utils: Service 'SparkUI' could not bind on port 4040. Attempting port 4041.\n",
      "22/05/25 20:48:35 WARN Utils: Service 'SparkUI' could not bind on port 4041. Attempting port 4042.\n",
      "                                                                                \r"
     ]
    },
    {
     "name": "stdout",
     "output_type": "stream",
     "text": [
      "[('ITE00100554', '-10'), ('EZE00100082', '-102')]\n"
     ]
    }
   ],
   "source": [
    "sc=SparkContext()\n",
    "\n",
    "temp_data=sc.textFile(\"dataset/1800.csv\")\n",
    "\n",
    "def parse(lines):\n",
    "    line=lines.split(\",\")\n",
    "    stationid,entrytype,temprature=line[0],line[2],line[3]\n",
    "    return (stationid,entrytype,temprature)\n",
    "\n",
    "rdd=temp_data.map(parse)\n",
    "filtered_rdd=rdd.filter(lambda x:x[1]=='TMIN')\n",
    "station_map=filtered_rdd.map(lambda x:(x[0],x[2]))\n",
    "result=station_map.reduceByKey(lambda x,y:min(x,y))\n",
    "print(result.collect())\n",
    "\n",
    "sc.stop()"
   ]
  },
  {
   "cell_type": "code",
   "execution_count": 14,
   "id": "1c2391ce",
   "metadata": {},
   "outputs": [],
   "source": [
    "sc.stop()"
   ]
  },
  {
   "cell_type": "code",
   "execution_count": null,
   "id": "f3513546",
   "metadata": {},
   "outputs": [],
   "source": []
  }
 ],
 "metadata": {
  "kernelspec": {
   "display_name": "Python 3 (ipykernel)",
   "language": "python",
   "name": "python3"
  },
  "language_info": {
   "codemirror_mode": {
    "name": "ipython",
    "version": 3
   },
   "file_extension": ".py",
   "mimetype": "text/x-python",
   "name": "python",
   "nbconvert_exporter": "python",
   "pygments_lexer": "ipython3",
   "version": "3.9.12"
  }
 },
 "nbformat": 4,
 "nbformat_minor": 5
}
